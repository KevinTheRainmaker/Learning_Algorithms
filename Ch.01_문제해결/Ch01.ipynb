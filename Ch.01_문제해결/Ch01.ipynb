{
 "cells": [
  {
   "cell_type": "markdown",
   "metadata": {},
   "source": [
    "## Chapter 1. 문제 해결\n",
    "- 문제를 해결하는 여러 알고리즘\n",
    "- 크기가 N인 문제 인스턴스에서 알고리즘의 성능을 고려하는 방법\n",
    "- 주어진 문제 인스턴스를 해결할 때, 주요 작업이 수행된 횟수를 세는 방법\n",
    "- 문제 인스턴스를 두 배씩 늘리며 증가 기준을 결정하는 방법\n",
    "- 크기가 N인 문제 인스턴스에서 알고리즘이 주요 작업을 수행한 횟수를 세어 시간 복잡도를 측정하는 방법\n",
    "- 크기가 N인 문제 인스턴스에서 알고리즘이 요구하는 메모리 양을 결정해 공간 복잡도를 측정하는 방법"
   ]
  },
  {
   "cell_type": "markdown",
   "metadata": {},
   "source": [
    "### 1.1 알고리즘이란\n",
    "\n",
    "알고리즘: 예측 가능한 시간에 정확한 결과를 반환하는, 컴퓨터 프로그램으로 구현된 단계별 문제 해결 방법. 정확성과 성능을 모두 고려하여 작성되어야 한다."
   ]
  },
  {
   "cell_type": "code",
   "execution_count": 11,
   "metadata": {},
   "outputs": [],
   "source": [
    "# Python 내장 함수 max() 파헤치기\n",
    "import random\n",
    "\n",
    "n = [random.randint(1,100_000) for num in range(100_000)]\n",
    "N = [random.randint(1,1_000_000) for num in range(1_000_000)]\n",
    "\n",
    "sorted_n = sorted(n)\n",
    "sorted_N = sorted(N)\n",
    "\n",
    "reversed_n = reversed(n)\n",
    "reversed_N = reversed(N)"
   ]
  },
  {
   "cell_type": "code",
   "execution_count": 12,
   "metadata": {},
   "outputs": [
    {
     "name": "stdout",
     "output_type": "stream",
     "text": [
      "CPU times: user 1.45 ms, sys: 12 µs, total: 1.47 ms\n",
      "Wall time: 1.47 ms\n",
      "CPU times: user 11.2 ms, sys: 966 µs, total: 12.1 ms\n",
      "Wall time: 12.1 ms\n",
      "CPU times: user 2.44 ms, sys: 0 ns, total: 2.44 ms\n",
      "Wall time: 2.44 ms\n",
      "CPU times: user 25 ms, sys: 491 µs, total: 25.5 ms\n",
      "Wall time: 25.4 ms\n",
      "CPU times: user 1.01 ms, sys: 319 µs, total: 1.33 ms\n",
      "Wall time: 1 ms\n",
      "CPU times: user 7.82 ms, sys: 21 µs, total: 7.84 ms\n",
      "Wall time: 7.82 ms\n"
     ]
    },
    {
     "data": {
      "text/plain": [
       "1000000"
      ]
     },
     "execution_count": 12,
     "metadata": {},
     "output_type": "execute_result"
    }
   ],
   "source": [
    "# 무작위순에 대해 max 추출\n",
    "%time max(n)\n",
    "%time max(N)\n",
    "\n",
    "# 오름차순에 대해 max 추출\n",
    "\n",
    "%time max(sorted_n)\n",
    "%time max(sorted_N)\n",
    "\n",
    "# 내림차순에 대해 max 추출\n",
    "\n",
    "%time max(reversed_n)\n",
    "%time max(reversed_N)"
   ]
  },
  {
   "cell_type": "markdown",
   "metadata": {},
   "source": [
    "위 결과를 통해 우리는 다음을 알 수 있다.\n",
    "\n",
    "**- 충분히 큰 N에 대해 파이썬 max 함수를 통해 정렬을 수행할 경우, max()의 수행 시간은 오름차순에 대해서 수행할 때가 내림차순에 대해서 수행할 때보다 항상 크다.**\n",
    "\n",
    "**- 약간의 편차는 있으나, 리스트의 크기에 비례하여 max 함수의 수행 시간이 늘어난다.**"
   ]
  },
  {
   "cell_type": "markdown",
   "metadata": {},
   "source": [
    "max() 알고리즘의 동작을 살펴보고, 이와 같은 결과가 발생한 이유를 알아보도록 하자."
   ]
  },
  {
   "cell_type": "markdown",
   "metadata": {},
   "source": [
    "### 1.2 리스트에서 가장 큰 값 찾기"
   ]
  },
  {
   "cell_type": "code",
   "execution_count": 13,
   "metadata": {},
   "outputs": [],
   "source": [
    "# 리스트에서 가장 큰 값을 찾는 코드 - 결함 존재\n",
    "def flawed(N):\n",
    "    cur_max = 0\n",
    "    for num in N:\n",
    "        if cur_max < num:\n",
    "            cur_max = num\n",
    "    return cur_max"
   ]
  },
  {
   "cell_type": "markdown",
   "metadata": {},
   "source": [
    "위 함수는 비교 연산자 '<'를 이용하여 모든 수에 대한 크기를 비교한다. 따라서 N의 크기만큼의 연산을 수행하게 된다.\n",
    "\n",
    "다만 위 함수는 N 내 모든 수가 0보다 큰 수라는 가정을 하고 있으므로 결함이 존재한다. (ex: N = [-3, -5, -1, -11]인 경우 잘못된 값 0 반환)\n",
    "\n",
    "`cur_max`의 값을 0 대신 -inf와 같은 매우 작은 음수값으로 설정할 수도 있지만, 이 경우에도 N이 빈 리스트일 경우 정상적으로 작동하지 않게 된다."
   ]
  },
  {
   "cell_type": "markdown",
   "metadata": {},
   "source": [
    "### 1.3 주요 연산 횟수 계산하기"
   ]
  },
  {
   "cell_type": "code",
   "execution_count": 14,
   "metadata": {},
   "outputs": [],
   "source": [
    "# 리스트에서 가장 큰 값을 찾는 코드 - 수정된 코드\n",
    "def largest(N):\n",
    "    cur_max = N[0]\n",
    "    for idx in range(1, len(N)):\n",
    "        if cur_max < N[idx]:\n",
    "            cur_max = N[idx]\n",
    "    return cur_max"
   ]
  },
  {
   "cell_type": "markdown",
   "metadata": {},
   "source": [
    "`cur_max`를 N의 인덱스 0 값인 `N[0]`으로 설정하여 리스트 내 값만을 반환할 수 있도록 하였으며, 연산 수행 횟수를 1회 줄였다.\n",
    "\n",
    "다만, 여전히 빈 리스트에 대해서는 정상적으로 작동하지 않는다."
   ]
  },
  {
   "cell_type": "code",
   "execution_count": 15,
   "metadata": {},
   "outputs": [
    {
     "ename": "IndexError",
     "evalue": "list index out of range",
     "output_type": "error",
     "traceback": [
      "\u001b[0;31m---------------------------------------------------------------------------\u001b[0m",
      "\u001b[0;31mIndexError\u001b[0m                                Traceback (most recent call last)",
      "\u001b[1;32m/Users/kangbeenko/Desktop/GitHub_Repository/Learning_Algorithms/Ch.01_문제해결/Ch01.ipynb Cell 13\u001b[0m in \u001b[0;36m<cell line: 2>\u001b[0;34m()\u001b[0m\n\u001b[1;32m      <a href='vscode-notebook-cell:/Users/kangbeenko/Desktop/GitHub_Repository/Learning_Algorithms/Ch.01_%EB%AC%B8%EC%A0%9C%ED%95%B4%EA%B2%B0/Ch01.ipynb#X14sZmlsZQ%3D%3D?line=0'>1</a>\u001b[0m A \u001b[39m=\u001b[39m []\n\u001b[0;32m----> <a href='vscode-notebook-cell:/Users/kangbeenko/Desktop/GitHub_Repository/Learning_Algorithms/Ch.01_%EB%AC%B8%EC%A0%9C%ED%95%B4%EA%B2%B0/Ch01.ipynb#X14sZmlsZQ%3D%3D?line=1'>2</a>\u001b[0m largest(A)\n",
      "\u001b[1;32m/Users/kangbeenko/Desktop/GitHub_Repository/Learning_Algorithms/Ch.01_문제해결/Ch01.ipynb Cell 13\u001b[0m in \u001b[0;36mlargest\u001b[0;34m(N)\u001b[0m\n\u001b[1;32m      <a href='vscode-notebook-cell:/Users/kangbeenko/Desktop/GitHub_Repository/Learning_Algorithms/Ch.01_%EB%AC%B8%EC%A0%9C%ED%95%B4%EA%B2%B0/Ch01.ipynb#X14sZmlsZQ%3D%3D?line=1'>2</a>\u001b[0m \u001b[39mdef\u001b[39;00m \u001b[39mlargest\u001b[39m(N):\n\u001b[0;32m----> <a href='vscode-notebook-cell:/Users/kangbeenko/Desktop/GitHub_Repository/Learning_Algorithms/Ch.01_%EB%AC%B8%EC%A0%9C%ED%95%B4%EA%B2%B0/Ch01.ipynb#X14sZmlsZQ%3D%3D?line=2'>3</a>\u001b[0m     cur_max \u001b[39m=\u001b[39m N[\u001b[39m0\u001b[39;49m]\n\u001b[1;32m      <a href='vscode-notebook-cell:/Users/kangbeenko/Desktop/GitHub_Repository/Learning_Algorithms/Ch.01_%EB%AC%B8%EC%A0%9C%ED%95%B4%EA%B2%B0/Ch01.ipynb#X14sZmlsZQ%3D%3D?line=3'>4</a>\u001b[0m     \u001b[39mfor\u001b[39;00m idx \u001b[39min\u001b[39;00m \u001b[39mrange\u001b[39m(\u001b[39m1\u001b[39m, \u001b[39mlen\u001b[39m(N)):\n\u001b[1;32m      <a href='vscode-notebook-cell:/Users/kangbeenko/Desktop/GitHub_Repository/Learning_Algorithms/Ch.01_%EB%AC%B8%EC%A0%9C%ED%95%B4%EA%B2%B0/Ch01.ipynb#X14sZmlsZQ%3D%3D?line=4'>5</a>\u001b[0m         \u001b[39mif\u001b[39;00m cur_max \u001b[39m<\u001b[39m N[idx]:\n",
      "\u001b[0;31mIndexError\u001b[0m: list index out of range"
     ]
    }
   ],
   "source": [
    "A = []\n",
    "largest(A)"
   ]
  },
  {
   "cell_type": "markdown",
   "metadata": {},
   "source": [
    "### 1.4 모델로 알고리즘 성능 예측하기"
   ]
  },
  {
   "cell_type": "code",
   "execution_count": 20,
   "metadata": {},
   "outputs": [],
   "source": [
    "# N에서 가장 큰 값의 위치를 찾는 다른 접근법\n",
    "def alternate(N):\n",
    "    for num in N:\n",
    "        is_largest = True\n",
    "        for x in N:\n",
    "            if num < x:\n",
    "                is_largest = False\n",
    "                break\n",
    "        if is_largest:\n",
    "            return num\n",
    "    return None"
   ]
  },
  {
   "cell_type": "markdown",
   "metadata": {},
   "source": [
    "alternate() 함수는 이중 for문을 활용해 N에서 모든 `x` 값보다 작지 않은 `num` 값을 찾는다. 위와 같은 경우 `num` 보다 큰 `x`가 발견되면 break를 통해 중지하므로 상당수의 경우 기존 방식보다 연산 횟수가 적을 것이다.\n",
    "\n",
    "하지만, 만약 N이 오름차순 정렬이 되어 있다면 N개 값에 대하여 $(N^2 + 3N -2)/2$번의 비교 연산을 수행하게 되므로 오히려 더 큰 연산 시간을 필요로 하게 된다."
   ]
  },
  {
   "cell_type": "code",
   "execution_count": 25,
   "metadata": {},
   "outputs": [
    {
     "name": "stdout",
     "output_type": "stream",
     "text": [
      "CPU times: user 48 ms, sys: 540 µs, total: 48.5 ms\n",
      "Wall time: 48.5 ms\n",
      "CPU times: user 263 ms, sys: 1.5 ms, total: 265 ms\n",
      "Wall time: 264 ms\n"
     ]
    },
    {
     "data": {
      "text/plain": [
       "1000000"
      ]
     },
     "execution_count": 25,
     "metadata": {},
     "output_type": "execute_result"
    }
   ],
   "source": [
    "N = [random.randint(1,1_000_000) for num in range(1_000_000)]\n",
    "sorted_N = sorted(N)\n",
    "\n",
    "%time largest(N)\n",
    "%time alternate(N)"
   ]
  },
  {
   "cell_type": "markdown",
   "metadata": {},
   "source": [
    "위처럼, 수행하는 연산 횟수를 기준으로 알고리즘의 시간 복잡도를 계산할 수 있다."
   ]
  },
  {
   "cell_type": "markdown",
   "metadata": {},
   "source": [
    "여기서 약간 흥미로운 점은, `largest()`와 `max()`는 연산 방식이 동일하나, 실제로는 `max()`가 `largest()`보다 빠르게 동작한다. 이는 파이썬이 인터프리터 언어이기 때문인데, 실행 중간에 바이트 코드로 컴파일 되는 `largest()`와 달리 내장 함수인 `max()` 함수는 인터프리터 내에 구현되어 있으므로 소요시간이 더 짧다."
   ]
  },
  {
   "cell_type": "markdown",
   "metadata": {},
   "source": [
    "### 1.5 리스트에서 가장 큰 두 수 찾기"
   ]
  },
  {
   "cell_type": "code",
   "execution_count": 1,
   "metadata": {},
   "outputs": [],
   "source": [
    "def largest_two(N):\n",
    "    cur_max, second = N[:2]\n",
    "    if cur_max < second:\n",
    "        cur_max, second = second, cur_max\n",
    "        \n",
    "    for idx in range(2, len(N)):\n",
    "        if cur_max < N[idx]:\n",
    "            cur_max, second = N[idx], cur_max\n",
    "        elif second < N[idx]:\n",
    "            second = A[idx]\n",
    "    return (cur_max, second)"
   ]
  },
  {
   "cell_type": "markdown",
   "metadata": {},
   "source": [
    "처음 두 값을 '가장 큰 두 수'의 초기값으로 설정한 뒤 정렬하고, 새로 찾은 `N[idx]`가 `cur_max`보다 크다면 `cur_max`를 업데이트하고 기존 값을 `second`에 넣는다.\n",
    "\n",
    "만약 `N[idx]`가 `second`와 `cur_max` 사이라면, `second`만 업데이트 한다."
   ]
  },
  {
   "cell_type": "markdown",
   "metadata": {},
   "source": [
    "위 함수는 for 루프 내 if 문의 조건이 True일 때 가장 적은 연산을 수행한다. 즉, N 내 값이 오름차순이면 최적 연산횟수 1 + N-2 = N-1회를 수행하게 된다.\n",
    "\n",
    "최악의 경우에는 1 + 2 * (N-2) = 2N - 3회 연산을 수행하게 된다. 이는 for 루프마다 두 번의 연산을 수행하게 되기 때문이다."
   ]
  },
  {
   "cell_type": "markdown",
   "metadata": {},
   "source": [
    "알고리즘의 선택은 여러 기준에 의해 결정될 수 있지만, 대표적으로 다음과 같은 기준들을 들 수 있다.\n",
    "\n",
    "1. 필요 추가 저장 공간: 원본 문제 인스턴스의 복사본을 만들 필요가 있는가?\n",
    "\n",
    "2. 프로그래밍 수고: 프로그래머가 작성해야 하는 코드의 줄 수는?\n",
    "\n",
    "3. 가변 입력: 해당 알고리즘은 문제 인스턴스에서 제공된 입력 자체를 수정하는가, 혹은 그대로 두는가?\n",
    "\n",
    "4. 속도: 제공된 입력과 무관하게 준수한 계산 속도를 가지는가?"
   ]
  },
  {
   "cell_type": "markdown",
   "metadata": {},
   "source": [
    "이제 위 기준들에 근거하여, 가장 큰 두 수를 찾는 연산을 수행하는 세 가지 알고리즘을 평가헤보자."
   ]
  },
  {
   "cell_type": "code",
   "execution_count": 2,
   "metadata": {},
   "outputs": [],
   "source": [
    "def sorting_two(N):\n",
    "    return tuple(sorted(N, reverse=True)[:2])\n",
    "\n",
    "def double_two(N):\n",
    "    cur_max = max(N)\n",
    "    copy = list(N)\n",
    "    copy.remove(cur_max)\n",
    "    return (cur_max, max(copy))\n",
    "\n",
    "def mutable_two(N):\n",
    "    idx = max(range(len(N)), key = N.__getitem__)\n",
    "    cur_max = N[idx]\n",
    "    del N[idx]\n",
    "    second = max(N)\n",
    "    N.insert(idx, cur_max)\n",
    "    return (cur_max, second)"
   ]
  },
  {
   "cell_type": "markdown",
   "metadata": {},
   "source": [
    "1) `sorting_two()`\n",
    "    \n",
    "    위 함수는 리스트 N을 내림차순으로 정렬한 후 가장 앞의 값 두 개를 반환하는 형식으로, 파이썬 내장함수인 `sorted`를 사용했다.\n",
    "\n",
    "2) `double_two()`\n",
    "    \n",
    "    N에서 가장 큰 값을 찾은 후, N의 복사본에서 해당 값을 지운다. 이렇게 만들어진 복사본에서 다시 최댓값을 찾아 두 번째 최대 값을 반환하는 형식으로, 파이썬 내장함수인 `max`를 사용한다.\n",
    "\n",
    "3) `mutable_two()`\n",
    "    \n",
    "    N에서 가장 큰 값의 '위치'를 찾는다. 이후 해당 인덱스의 값을 `cur_max`에 저장하고 원본 리스트에서 해당 값을 제거한다. 가장 큰 값이 제거된 원본 리스트에서 최댓값을 찾아 `second`에 저장한 후, 기존 리스트를 복원하기 위해 `idx`에 `cur_max`를 삽입한다. `double_two()`와 마찬가지로 `max()` 함수를 사용하며, 추가로 `del`과 `insert`를 이용해 원본 리스트를 함수 내에서 조작한다."
   ]
  },
  {
   "cell_type": "markdown",
   "metadata": {},
   "source": [
    "위 세 가지 함수 중 `sorting_two()`와 `double_two()`는 불필요한 복사본을 만든다. 또한 가장 큰 값 두 개만 찾으면 되는 상황에서 전체를 정렬하는 일은 과하게 보이기도 한다. 다만 세 번째 함수는 원본 리스트를 수정하기에 조심스럽게 사용할 필요가 있다."
   ]
  },
  {
   "cell_type": "markdown",
   "metadata": {},
   "source": [
    "### 1.6 토너먼트 알고리즘"
   ]
  },
  {
   "cell_type": "markdown",
   "metadata": {},
   "source": [
    "이번에 설명할 `tournament_two()` 함수는 입력에 상관 없이 연산 실행 횟수가 가장 적은 효울적인 알고리즘이다. 이는 스포츠에서 흔히 사용되는 Single-Elimination tournament 방식과 유사하다."
   ]
  },
  {
   "cell_type": "code",
   "execution_count": null,
   "metadata": {},
   "outputs": [],
   "source": []
  }
 ],
 "metadata": {
  "kernelspec": {
   "display_name": "Python 3.9.12 64-bit",
   "language": "python",
   "name": "python3"
  },
  "language_info": {
   "codemirror_mode": {
    "name": "ipython",
    "version": 3
   },
   "file_extension": ".py",
   "mimetype": "text/x-python",
   "name": "python",
   "nbconvert_exporter": "python",
   "pygments_lexer": "ipython3",
   "version": "3.9.12"
  },
  "orig_nbformat": 4,
  "vscode": {
   "interpreter": {
    "hash": "b0fa6594d8f4cbf19f97940f81e996739fb7646882a419484c72d19e05852a7e"
   }
  }
 },
 "nbformat": 4,
 "nbformat_minor": 2
}
