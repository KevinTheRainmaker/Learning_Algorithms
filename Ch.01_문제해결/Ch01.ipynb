{
 "cells": [
  {
   "cell_type": "markdown",
   "metadata": {},
   "source": [
    "## Chapter 1. 문제 해결\n",
    "- 문제를 해결하는 여러 알고리즘\n",
    "- 크기가 N인 문제 인스턴스에서 알고리즘의 성능을 고려하는 방법\n",
    "- 주어진 문제 인스턴스를 해결할 때, 주요 작업이 수행된 횟수를 세는 방법\n",
    "- 문제 인스턴스를 두 배씩 늘리며 증가 기준을 결정하는 방법\n",
    "- 크기가 N인 문제 인스턴스에서 알고리즘이 주요 작업을 수행한 횟수를 세어 시간 복잡도를 측정하는 방법\n",
    "- 크기가 N인 문제 인스턴스에서 알고리즘이 요구하는 메모리 양을 결정해 공간 복잡도를 측정하는 방법"
   ]
  },
  {
   "cell_type": "markdown",
   "metadata": {},
   "source": [
    "### 1.1 알고리즘이란\n",
    "\n",
    "알고리즘: 예측 가능한 시간에 정확한 결과를 반환하는, 컴퓨터 프로그램으로 구현된 단계별 문제 해결 방법. 정확성과 성능을 모두 고려하여 작성되어야 한다."
   ]
  },
  {
   "cell_type": "code",
   "execution_count": 11,
   "metadata": {},
   "outputs": [],
   "source": [
    "# Python 내장 함수 max() 파헤치기\n",
    "import random\n",
    "\n",
    "n = [random.randint(1,100_000) for num in range(100_000)]\n",
    "N = [random.randint(1,1_000_000) for num in range(1_000_000)]\n",
    "\n",
    "sorted_n = sorted(n)\n",
    "sorted_N = sorted(N)\n",
    "\n",
    "reversed_n = reversed(n)\n",
    "reversed_N = reversed(N)"
   ]
  },
  {
   "cell_type": "code",
   "execution_count": 12,
   "metadata": {},
   "outputs": [
    {
     "name": "stdout",
     "output_type": "stream",
     "text": [
      "CPU times: user 1.45 ms, sys: 12 µs, total: 1.47 ms\n",
      "Wall time: 1.47 ms\n",
      "CPU times: user 11.2 ms, sys: 966 µs, total: 12.1 ms\n",
      "Wall time: 12.1 ms\n",
      "CPU times: user 2.44 ms, sys: 0 ns, total: 2.44 ms\n",
      "Wall time: 2.44 ms\n",
      "CPU times: user 25 ms, sys: 491 µs, total: 25.5 ms\n",
      "Wall time: 25.4 ms\n",
      "CPU times: user 1.01 ms, sys: 319 µs, total: 1.33 ms\n",
      "Wall time: 1 ms\n",
      "CPU times: user 7.82 ms, sys: 21 µs, total: 7.84 ms\n",
      "Wall time: 7.82 ms\n"
     ]
    },
    {
     "data": {
      "text/plain": [
       "1000000"
      ]
     },
     "execution_count": 12,
     "metadata": {},
     "output_type": "execute_result"
    }
   ],
   "source": [
    "# 무작위순에 대해 max 추출\n",
    "%time max(n)\n",
    "%time max(N)\n",
    "\n",
    "# 오름차순에 대해 max 추출\n",
    "\n",
    "%time max(sorted_n)\n",
    "%time max(sorted_N)\n",
    "\n",
    "# 내림차순에 대해 max 추출\n",
    "\n",
    "%time max(reversed_n)\n",
    "%time max(reversed_N)"
   ]
  },
  {
   "cell_type": "markdown",
   "metadata": {},
   "source": [
    "위 결과를 통해 우리는 다음을 알 수 있다.\n",
    "\n",
    "**- 충분히 큰 N에 대해 파이썬 max 함수를 통해 정렬을 수행할 경우, max()의 수행 시간은 오름차순에 대해서 수행할 때가 내림차순에 대해서 수행할 때보다 항상 크다.**\n",
    "\n",
    "**- 약간의 편차는 있으나, 리스트의 크기에 비례하여 max 함수의 수행 시간이 늘어난다.**"
   ]
  },
  {
   "cell_type": "markdown",
   "metadata": {},
   "source": [
    "max() 알고리즘의 동작을 살펴보고, 이와 같은 결과가 발생한 이유를 알아보도록 하자."
   ]
  },
  {
   "cell_type": "markdown",
   "metadata": {},
   "source": [
    "### 1.2 리스트에서 가장 큰 값 찾기"
   ]
  },
  {
   "cell_type": "code",
   "execution_count": 13,
   "metadata": {},
   "outputs": [],
   "source": [
    "# 리스트에서 가장 큰 값을 찾는 코드 - 결함 존재\n",
    "def flawed(N):\n",
    "    cur_max = 0\n",
    "    for num in N:\n",
    "        if cur_max < num:\n",
    "            cur_max = num\n",
    "    return cur_max"
   ]
  },
  {
   "cell_type": "markdown",
   "metadata": {},
   "source": [
    "위 함수는 비교 연산자 '<'를 이용하여 모든 수에 대한 크기를 비교한다. 따라서 N의 크기만큼의 연산을 수행하게 된다.\n",
    "\n",
    "다만 위 함수는 N 내 모든 수가 0보다 큰 수라는 가정을 하고 있으므로 결함이 존재한다. (ex: N = [-3, -5, -1, -11]인 경우 잘못된 값 0 반환)\n",
    "\n",
    "`cur_max`의 값을 0 대신 -inf와 같은 매우 작은 음수값으로 설정할 수도 있지만, 이 경우에도 N이 빈 리스트일 경우 정상적으로 작동하지 않게 된다."
   ]
  },
  {
   "cell_type": "markdown",
   "metadata": {},
   "source": [
    "### 1.3 주요 연산 횟수 계산하기"
   ]
  },
  {
   "cell_type": "code",
   "execution_count": 14,
   "metadata": {},
   "outputs": [],
   "source": [
    "# 리스트에서 가장 큰 값을 찾는 코드 - 수정된 코드\n",
    "def largest(N):\n",
    "    cur_max = N[0]\n",
    "    for idx in range(1, len(N)):\n",
    "        if cur_max < N[idx]:\n",
    "            cur_max = N[idx]\n",
    "    return cur_max"
   ]
  },
  {
   "cell_type": "markdown",
   "metadata": {},
   "source": [
    "`cur_max`를 N의 인덱스 0 값인 `N[0]`으로 설정하여 리스트 내 값만을 반환할 수 있도록 하였으며, 연산 수행 횟수를 1회 줄였다.\n",
    "\n",
    "다만, 여전히 빈 리스트에 대해서는 정상적으로 작동하지 않는다."
   ]
  },
  {
   "cell_type": "code",
   "execution_count": 15,
   "metadata": {},
   "outputs": [
    {
     "ename": "IndexError",
     "evalue": "list index out of range",
     "output_type": "error",
     "traceback": [
      "\u001b[0;31m---------------------------------------------------------------------------\u001b[0m",
      "\u001b[0;31mIndexError\u001b[0m                                Traceback (most recent call last)",
      "\u001b[1;32m/Users/kangbeenko/Desktop/GitHub_Repository/Learning_Algorithms/Ch.01_문제해결/Ch01.ipynb Cell 13\u001b[0m in \u001b[0;36m<cell line: 2>\u001b[0;34m()\u001b[0m\n\u001b[1;32m      <a href='vscode-notebook-cell:/Users/kangbeenko/Desktop/GitHub_Repository/Learning_Algorithms/Ch.01_%EB%AC%B8%EC%A0%9C%ED%95%B4%EA%B2%B0/Ch01.ipynb#X14sZmlsZQ%3D%3D?line=0'>1</a>\u001b[0m A \u001b[39m=\u001b[39m []\n\u001b[0;32m----> <a href='vscode-notebook-cell:/Users/kangbeenko/Desktop/GitHub_Repository/Learning_Algorithms/Ch.01_%EB%AC%B8%EC%A0%9C%ED%95%B4%EA%B2%B0/Ch01.ipynb#X14sZmlsZQ%3D%3D?line=1'>2</a>\u001b[0m largest(A)\n",
      "\u001b[1;32m/Users/kangbeenko/Desktop/GitHub_Repository/Learning_Algorithms/Ch.01_문제해결/Ch01.ipynb Cell 13\u001b[0m in \u001b[0;36mlargest\u001b[0;34m(N)\u001b[0m\n\u001b[1;32m      <a href='vscode-notebook-cell:/Users/kangbeenko/Desktop/GitHub_Repository/Learning_Algorithms/Ch.01_%EB%AC%B8%EC%A0%9C%ED%95%B4%EA%B2%B0/Ch01.ipynb#X14sZmlsZQ%3D%3D?line=1'>2</a>\u001b[0m \u001b[39mdef\u001b[39;00m \u001b[39mlargest\u001b[39m(N):\n\u001b[0;32m----> <a href='vscode-notebook-cell:/Users/kangbeenko/Desktop/GitHub_Repository/Learning_Algorithms/Ch.01_%EB%AC%B8%EC%A0%9C%ED%95%B4%EA%B2%B0/Ch01.ipynb#X14sZmlsZQ%3D%3D?line=2'>3</a>\u001b[0m     cur_max \u001b[39m=\u001b[39m N[\u001b[39m0\u001b[39;49m]\n\u001b[1;32m      <a href='vscode-notebook-cell:/Users/kangbeenko/Desktop/GitHub_Repository/Learning_Algorithms/Ch.01_%EB%AC%B8%EC%A0%9C%ED%95%B4%EA%B2%B0/Ch01.ipynb#X14sZmlsZQ%3D%3D?line=3'>4</a>\u001b[0m     \u001b[39mfor\u001b[39;00m idx \u001b[39min\u001b[39;00m \u001b[39mrange\u001b[39m(\u001b[39m1\u001b[39m, \u001b[39mlen\u001b[39m(N)):\n\u001b[1;32m      <a href='vscode-notebook-cell:/Users/kangbeenko/Desktop/GitHub_Repository/Learning_Algorithms/Ch.01_%EB%AC%B8%EC%A0%9C%ED%95%B4%EA%B2%B0/Ch01.ipynb#X14sZmlsZQ%3D%3D?line=4'>5</a>\u001b[0m         \u001b[39mif\u001b[39;00m cur_max \u001b[39m<\u001b[39m N[idx]:\n",
      "\u001b[0;31mIndexError\u001b[0m: list index out of range"
     ]
    }
   ],
   "source": [
    "A = []\n",
    "largest(A)"
   ]
  },
  {
   "cell_type": "markdown",
   "metadata": {},
   "source": [
    "### 1.4 모델로 알고리즘 성능 예측하기"
   ]
  },
  {
   "cell_type": "code",
   "execution_count": 20,
   "metadata": {},
   "outputs": [],
   "source": [
    "# N에서 가장 큰 값의 위치를 찾는 다른 접근법\n",
    "def alternate(N):\n",
    "    for num in N:\n",
    "        is_largest = True\n",
    "        for x in N:\n",
    "            if num < x:\n",
    "                is_largest = False\n",
    "                break\n",
    "        if is_largest:\n",
    "            return num\n",
    "    return None"
   ]
  },
  {
   "cell_type": "markdown",
   "metadata": {},
   "source": [
    "alternate() 함수는 이중 for문을 활용해 N에서 모든 `x` 값보다 작지 않은 `num` 값을 찾는다. 위와 같은 경우 `num` 보다 큰 `x`가 발견되면 break를 통해 중지하므로 상당수의 경우 기존 방식보다 연산 횟수가 적을 것이다.\n",
    "\n",
    "하지만, 만약 N이 오름차순 정렬이 되어 있다면 N개 값에 대하여 $(N^2 + 3N -2)/2$번의 비교 연산을 수행하게 되므로 오히려 더 큰 연산 시간을 필요로 하게 된다."
   ]
  },
  {
   "cell_type": "code",
   "execution_count": 25,
   "metadata": {},
   "outputs": [],
   "source": [
    "N = [random.randint(1,1_000_000) for num in range(1_000_000)]\n",
    "sorted_N = sorted(N)\n",
    "\n",
    "%time largest(N)\n",
    "%time alternate(N)"
   ]
  },
  {
   "cell_type": "markdown",
   "metadata": {},
   "source": []
  },
  {
   "cell_type": "code",
   "execution_count": null,
   "metadata": {},
   "outputs": [],
   "source": []
  }
 ],
 "metadata": {
  "kernelspec": {
   "display_name": "Python 3.9.12 64-bit",
   "language": "python",
   "name": "python3"
  },
  "language_info": {
   "codemirror_mode": {
    "name": "ipython",
    "version": 3
   },
   "file_extension": ".py",
   "mimetype": "text/x-python",
   "name": "python",
   "nbconvert_exporter": "python",
   "pygments_lexer": "ipython3",
   "version": "3.9.12"
  },
  "orig_nbformat": 4,
  "vscode": {
   "interpreter": {
    "hash": "b0fa6594d8f4cbf19f97940f81e996739fb7646882a419484c72d19e05852a7e"
   }
  }
 },
 "nbformat": 4,
 "nbformat_minor": 2
}
